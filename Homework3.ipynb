{
  "cells": [
    {
      "cell_type": "markdown",
      "metadata": {
        "id": "GaLMe79uvc9Z"
      },
      "source": [
        "## Setup"
      ]
    },
    {
      "cell_type": "code",
      "execution_count": null,
      "metadata": {
        "id": "oWJReMDZtOpc"
      },
      "outputs": [],
      "source": [
        "# Install TensorFlow Dececision Forests and the dependencies used in this colab.\n",
        "!pip install tensorflow_decision_forests plotly scikit-learn wurlitzer -U -qq"
      ]
    },
    {
      "cell_type": "code",
      "execution_count": null,
      "metadata": {
        "id": "oG_FgJBLVzre"
      },
      "outputs": [],
      "source": [
        "\n",
        "import tensorflow_decision_forests as tfdf\n",
        "\n",
        "import matplotlib.colors as mcolors\n",
        "import math\n",
        "import os\n",
        "import numpy as np\n",
        "import pandas as pd\n",
        "from sklearn.manifold import TSNE\n",
        "import matplotlib.pyplot as plt\n",
        "from plotly.offline import iplot\n",
        "import plotly.graph_objs as go"
      ]
    },
    {
      "cell_type": "markdown",
      "metadata": {
        "id": "YBxXMiU_fnuM"
      },
      "source": [
        "## create random dataset"
      ]
    },
    {
      "cell_type": "code",
      "execution_count": null,
      "metadata": {
        "id": "jvS6VEFtbhoS"
      },
      "outputs": [],
      "source": [
        "import numpy as np\n",
        "import pandas as pd\n",
        "\n",
        "import seaborn as sns\n",
        "import matplotlib.pyplot as plt\n",
        "\n",
        "\n",
        "# Set random seed for reproducibility\n",
        "np.random.seed(42)\n",
        "\n",
        "# Define parameters for the four different settings\n",
        "settings = [\n",
        "    {\"mean\": [1, 2, 3, 4, 5, 6, 7, 8], \"covariance\": np.eye(8)},\n",
        "    {\"mean\": [10, 9, 8, 7, 6, 5, 4, 3], \"covariance\": np.diag([1, 2, 3, 4, 5, 6, 7, 8])},\n",
        "    {\"mean\": [5, 5, 5, 5, 5, 5, 5, 5], \"covariance\": np.ones((8, 8)) * 0.5},\n",
        "    {\"mean\": [0, 1, 0, 1, 0, 1, 0, 1], \"covariance\": np.array([[1, 0, 0, 0, 0, 0, 0, 0],\n",
        "                                                                [0, 2, 0, 0, 0, 0, 0, 0],\n",
        "                                                                [0, 0, 3, 0, 0, 0, 0, 0],\n",
        "                                                                [0, 0, 0, 4, 0, 0, 0, 0],\n",
        "                                                                [0, 0, 0, 0, 5, 0, 0, 0],\n",
        "                                                                [0, 0, 0, 0, 0, 6, 0, 0],\n",
        "                                                                [0, 0, 0, 0, 0, 0, 7, 0],\n",
        "                                                                [0, 0, 0, 0, 0, 0, 0, 8]])}\n",
        "]\n",
        "\n",
        "# Initialize an empty list to store generated data\n",
        "data_points = []\n",
        "\n",
        "# Generate 500 data points for each parameter setting\n",
        "for setting in settings:\n",
        "    mean_vector = setting[\"mean\"]\n",
        "    covariance_matrix = setting[\"covariance\"]\n",
        "\n",
        "    # Generate 500 data points with multivariate normal distribution\n",
        "    data = np.random.multivariate_normal(mean_vector, covariance_matrix, size=500)\n",
        "\n",
        "    # Append the generated data to the list\n",
        "    data_points.append(data)\n",
        "\n",
        "# Concatenate the data points along the first axis to create the final dataset\n",
        "final_dataset = np.concatenate(data_points, axis=0)\n",
        "\n",
        "# Print the shape of the final dataset\n",
        "print(\"Shape of the final dataset:\", final_dataset.shape)\n",
        "\n",
        "final_dataset= pd.DataFrame(final_dataset)\n",
        "deneme = final_dataset"
      ]
    },
    {
      "cell_type": "code",
      "source": [
        "final_dataset['class'] = 1\n",
        "final_dataset\n",
        "\n"
      ],
      "metadata": {
        "id": "KWUWxYOqyDaI"
      },
      "execution_count": null,
      "outputs": []
    },
    {
      "cell_type": "code",
      "source": [
        "column_names = deneme.columns.tolist()\n",
        "new_column_names = {\n",
        "    column_names[0]: 'NewFeature1',\n",
        "    column_names[1]: 'NewFeature2',\n",
        "    column_names[2]: 'NewFeature3',\n",
        "    column_names[3]: 'NewFeature4',\n",
        "    column_names[4]: 'NewFeature5',\n",
        "    column_names[5]: 'NewFeature6',\n",
        "    column_names[6]: 'NewFeature7',\n",
        "    column_names[7]: 'NewFeature8',\n",
        "\n",
        "\n",
        "}\n",
        "\n",
        "deneme = deneme.rename(columns=new_column_names)\n",
        "deneme.dtypes\n",
        "deneme.columns.astype(str)"
      ],
      "metadata": {
        "id": "xm582unhYiAc"
      },
      "execution_count": null,
      "outputs": []
    },
    {
      "cell_type": "code",
      "source": [
        "deneme"
      ],
      "metadata": {
        "id": "ib1_5z6XY67_"
      },
      "execution_count": null,
      "outputs": []
    },
    {
      "cell_type": "code",
      "source": [
        "from sklearn.cluster import KMeans, AgglomerativeClustering\n",
        "\n",
        "kmeans = KMeans(n_clusters=4, random_state=0)\n",
        "clusters_kmeans = kmeans.fit_predict(deneme)\n",
        "clusters_kmeans"
      ],
      "metadata": {
        "id": "O8f6Wc3gYPyI"
      },
      "execution_count": null,
      "outputs": []
    },
    {
      "cell_type": "code",
      "source": [
        "plt.subplot(132)\n",
        "plt.scatter(deneme['NewFeature4'], deneme['NewFeature8'], c=clusters_kmeans, cmap='viridis')\n",
        "plt.title(\"K-Means Clustering\")"
      ],
      "metadata": {
        "id": "rInZ9cj5ZcbL"
      },
      "execution_count": null,
      "outputs": []
    },
    {
      "cell_type": "code",
      "source": [
        "def mean(deneme, clusters_list):\n",
        "    cluster_means = []\n",
        "    for cluster_index in clusters_list:\n",
        "        cluster_data = deneme.iloc[cluster_index]\n",
        "        mean = np.mean(cluster_data, axis=0)\n",
        "        cluster_means.append(mean)\n",
        "    return cluster_means"
      ],
      "metadata": {
        "id": "m9zyll12ba5v"
      },
      "execution_count": null,
      "outputs": []
    },
    {
      "cell_type": "code",
      "source": [
        "kmeans_means = mean(deneme, clusters_kmeans)"
      ],
      "metadata": {
        "id": "1AMO4xexbLDw"
      },
      "execution_count": null,
      "outputs": []
    },
    {
      "cell_type": "code",
      "source": [
        "kmeans_means"
      ],
      "metadata": {
        "id": "fToCn1nBbeIw"
      },
      "execution_count": null,
      "outputs": []
    },
    {
      "cell_type": "code",
      "source": [
        "kmeans_means[-1]"
      ],
      "metadata": {
        "id": "gHaYWUgFbn5Q"
      },
      "execution_count": null,
      "outputs": []
    },
    {
      "cell_type": "code",
      "source": [
        "kmeans_means[-501]"
      ],
      "metadata": {
        "id": "y7A1qxmtbuwe"
      },
      "execution_count": null,
      "outputs": []
    },
    {
      "cell_type": "code",
      "source": [
        "kmeans_means[-1001]"
      ],
      "metadata": {
        "id": "N0xmOTvMbyJM"
      },
      "execution_count": null,
      "outputs": []
    },
    {
      "cell_type": "code",
      "source": [
        "kmeans_means[-1501]"
      ],
      "metadata": {
        "id": "4kLo3qe2b2Nq"
      },
      "execution_count": null,
      "outputs": []
    },
    {
      "cell_type": "code",
      "source": [
        "kmeans_covariances"
      ],
      "metadata": {
        "id": "VBiYQG8jb8O_"
      },
      "execution_count": null,
      "outputs": []
    },
    {
      "cell_type": "code",
      "source": [],
      "metadata": {
        "id": "Vr93xlkmbe01"
      },
      "execution_count": null,
      "outputs": []
    },
    {
      "cell_type": "code",
      "source": [
        "import numpy as np\n",
        "\n",
        "# Assuming 'original_data' is your original dataset with shape (n_samples, n_features)\n",
        "# Replace this with your actual dataset\n",
        "np.random.seed(42)\n",
        "original_data = final_dataset\n",
        "\n",
        "# Function to permute each variable independently\n",
        "def permute_variable(variable):\n",
        "    return np.random.permutation(variable)\n",
        "\n",
        "# Permute each variable in the original data independently\n",
        "synthetic_data = np.apply_along_axis(permute_variable, axis=0, arr=original_data)\n",
        "\n",
        "# Print the first few rows of the synthetic data\n",
        "print(\"Synthetic Data:\")\n",
        "print(synthetic_data[:5, :])\n",
        "synthetic_data= pd.DataFrame(synthetic_data)\n",
        "synthetic_data"
      ],
      "metadata": {
        "id": "YYZMmQDbskfJ"
      },
      "execution_count": null,
      "outputs": []
    },
    {
      "cell_type": "code",
      "source": [
        "synthetic_data['class'] = 2\n",
        "synthetic_data"
      ],
      "metadata": {
        "id": "OW7pH28qyG_P"
      },
      "execution_count": null,
      "outputs": []
    },
    {
      "cell_type": "code",
      "source": [
        "df_combined = pd.concat([final_dataset, synthetic_data], ignore_index=True)\n",
        "df_co= df_combined\n",
        "\n",
        "df_combined\n",
        "\n"
      ],
      "metadata": {
        "id": "NTw2trIusnev"
      },
      "execution_count": null,
      "outputs": []
    },
    {
      "cell_type": "code",
      "source": [
        "column_names = df_combined.columns.tolist()\n",
        "new_column_names = {\n",
        "    column_names[0]: 'NewFeature1',\n",
        "    column_names[1]: 'NewFeature2',\n",
        "    column_names[2]: 'NewFeature3',\n",
        "    column_names[3]: 'NewFeature4',\n",
        "    column_names[4]: 'NewFeature5',\n",
        "    column_names[5]: 'NewFeature6',\n",
        "    column_names[6]: 'NewFeature7',\n",
        "    column_names[7]: 'NewFeature8',\n",
        "    column_names[9]: 'NewFeature9',\n",
        "\n",
        "}\n",
        "\n",
        "df_combined = df_combined.rename(columns=new_column_names)\n",
        "df_combined.dtypes"
      ],
      "metadata": {
        "id": "-qkAxWUosrR_"
      },
      "execution_count": null,
      "outputs": []
    },
    {
      "cell_type": "code",
      "source": [
        "df_combined"
      ],
      "metadata": {
        "id": "pgqLkJnotwCm"
      },
      "execution_count": null,
      "outputs": []
    },
    {
      "cell_type": "code",
      "source": [],
      "metadata": {
        "id": "Lj1oRBmO3AbY"
      },
      "execution_count": null,
      "outputs": []
    },
    {
      "cell_type": "code",
      "source": [
        "df_combined = df_combined.drop('NewFeature9', axis= 1)\n",
        "df_co= df_combined"
      ],
      "metadata": {
        "id": "9onldc8b1bej"
      },
      "execution_count": null,
      "outputs": []
    },
    {
      "cell_type": "code",
      "source": [
        "df_co= df_combined"
      ],
      "metadata": {
        "id": "iQJ-e2B5EgBt"
      },
      "execution_count": null,
      "outputs": []
    },
    {
      "cell_type": "code",
      "source": [
        "from sklearn.model_selection import train_test_split\n"
      ],
      "metadata": {
        "id": "OtE_pROvtKnw"
      },
      "execution_count": null,
      "outputs": []
    },
    {
      "cell_type": "code",
      "source": [
        "train, test = train_test_split(df_combined, test_size=0.2, random_state=0)"
      ],
      "metadata": {
        "id": "qteaWuF8tOsM"
      },
      "execution_count": null,
      "outputs": []
    },
    {
      "cell_type": "code",
      "source": [
        "test"
      ],
      "metadata": {
        "id": "jIzqj1vgujRp"
      },
      "execution_count": null,
      "outputs": []
    },
    {
      "cell_type": "code",
      "source": [
        "train"
      ],
      "metadata": {
        "id": "b12gVW-SuhFw"
      },
      "execution_count": null,
      "outputs": []
    },
    {
      "cell_type": "code",
      "source": [
        "# , and convert it into a TensorFlow dataset.\n",
        "train_ds = tfdf.keras.pd_dataframe_to_tf_dataset(train, label=\"class\")\n",
        "test_ds = tfdf.keras.pd_dataframe_to_tf_dataset(test, label=\"class\")"
      ],
      "metadata": {
        "id": "96JQ5YX9tUVp"
      },
      "execution_count": null,
      "outputs": []
    },
    {
      "cell_type": "code",
      "execution_count": null,
      "metadata": {
        "id": "PB1uoNL6VmIy"
      },
      "outputs": [],
      "source": [
        "train"
      ]
    },
    {
      "cell_type": "markdown",
      "metadata": {
        "id": "98RjQ3TLv9er"
      },
      "source": [
        "Following are the first five examples of the training dataset. Notice that\n",
        "different columns represent different quantities. For example, how would you compare\n",
        "the distance between *relationship* and *age*?"
      ]
    },
    {
      "cell_type": "code",
      "execution_count": null,
      "metadata": {
        "id": "qxMvrC0Sv6lH"
      },
      "outputs": [],
      "source": [
        "# Print the first 5 examples.\n",
        "train.head()"
      ]
    },
    {
      "cell_type": "markdown",
      "metadata": {
        "id": "4meZoXCZwPB4"
      },
      "source": [
        "A Random Forest is trained as follows:"
      ]
    },
    {
      "cell_type": "code",
      "execution_count": null,
      "metadata": {
        "id": "A9kAraP6V6IN"
      },
      "outputs": [],
      "source": [
        "# Train a Random Forest\n",
        "model = tfdf.keras.RandomForestModel(num_trees=1000)\n",
        "model.fit(train_ds)"
      ]
    },
    {
      "cell_type": "markdown",
      "metadata": {
        "id": "OaXVeDJ6wulU"
      },
      "source": [
        "The performance of the Random Forest model is:"
      ]
    },
    {
      "cell_type": "code",
      "execution_count": null,
      "metadata": {
        "id": "_K1D_09HdHCM"
      },
      "outputs": [],
      "source": [
        "model_inspector = model.make_inspector()\n",
        "out_of_bag_accuracy = model_inspector.evaluation().accuracy\n",
        "print(f\"Out-of-bag accuracy: {out_of_bag_accuracy:.4f}\")"
      ]
    },
    {
      "cell_type": "markdown",
      "metadata": {
        "id": "zRsgF9Y3wzQI"
      },
      "source": [
        "This is an expected accuracy value for Random Forest models on this dataset. It indicates that the model is correctly trained.\n",
        "\n",
        "We can also measure the accuracy of the model on the test datasets:"
      ]
    },
    {
      "cell_type": "code",
      "execution_count": null,
      "metadata": {
        "id": "pGnmaT1nXxdd"
      },
      "outputs": [],
      "source": [
        "# The test accuracy is measured on the test datasets.\n",
        "model.compile([\"accuracy\"])\n",
        "test_accuracy = model.evaluate(test_ds, return_dict=True, verbose=0)[\"accuracy\"]\n",
        "print(f\"Test accuracy: {test_accuracy:.4f}\")"
      ]
    },
    {
      "cell_type": "markdown",
      "metadata": {
        "id": "rbo7MTZgfpjq"
      },
      "source": [
        "## Proximities"
      ]
    },
    {
      "cell_type": "markdown",
      "metadata": {
        "id": "6lWk06zlxZEc"
      },
      "source": [
        "First, we inspect the number of trees in the model and the number of examples in the test datasets."
      ]
    },
    {
      "cell_type": "code",
      "execution_count": null,
      "metadata": {
        "id": "2EAzFN0_xbuz"
      },
      "outputs": [],
      "source": [
        "print(\"The model contains\", model_inspector.num_trees(), \"trees.\")\n",
        "print(\"The test dataset contains\", test.shape[0], \"examples.\")"
      ]
    },
    {
      "cell_type": "code",
      "source": [
        "test"
      ],
      "metadata": {
        "id": "2V2RCjSRvEPz"
      },
      "execution_count": null,
      "outputs": []
    },
    {
      "cell_type": "markdown",
      "metadata": {
        "id": "OglqxIdkxFbO"
      },
      "source": [
        "The method [predict_get_leaves()](https://www.tensorflow.org/decision_forests/api_docs/python/tfdf/keras/RandomForestModel) returns the index of the active leaf for each example and each tree."
      ]
    },
    {
      "cell_type": "code",
      "execution_count": null,
      "metadata": {
        "id": "4VRnisa-gf0x"
      },
      "outputs": [],
      "source": [
        "leaves = model.predict_get_leaves(test_ds)\n",
        "print(\"The leaf indices:\\n\", leaves)"
      ]
    },
    {
      "cell_type": "code",
      "execution_count": null,
      "metadata": {
        "id": "oK72WE1ngIkB"
      },
      "outputs": [],
      "source": [
        "print(\"The predicted leaves have shape\", leaves.shape,\n",
        "      \"(we expect [num_examples, num_trees]\")"
      ]
    },
    {
      "cell_type": "markdown",
      "metadata": {
        "id": "VdDP6gA5xpED"
      },
      "source": []
    },
    {
      "cell_type": "code",
      "execution_count": null,
      "metadata": {
        "id": "1GAdmdehc2kM"
      },
      "outputs": [],
      "source": [
        "def compute_proximity(leaves, step_size=100):\n",
        "  \"\"\"Computes the proximity between each pair of examples.\n",
        "\n",
        "\n",
        "\n",
        "  Returns:\n",
        "    The example pair-wise proximity matrix of shape [n,n] with \"n\" the number of\n",
        "    examples.\n",
        "  \"\"\"\n",
        "\n",
        "  example_idx = 0\n",
        "  num_examples = leaves.shape[0]\n",
        "  t_leaves = np.transpose(leaves)\n",
        "  proximities = []\n",
        "\n",
        "  # Instead of computing the proximity in between all the examples at the same\n",
        "  # time, we compute the similarity in blocks of \"step_size\" examples. This\n",
        "  # makes the code more efficient with the the numpy broadcast.\n",
        "  while example_idx < num_examples:\n",
        "    end_idx = min(example_idx + step_size, num_examples)\n",
        "    proximities.append(\n",
        "        np.mean(\n",
        "            leaves[..., np.newaxis] == t_leaves[:,\n",
        "                                                example_idx:end_idx][np.newaxis,\n",
        "                                                                     ...],\n",
        "            axis=1))\n",
        "    example_idx = end_idx\n",
        "  return np.concatenate(proximities, axis=1)\n",
        "\n",
        "\n",
        "proximity = compute_proximity(leaves)\n",
        "print(\"The shape of proximity is\", proximity.shape)"
      ]
    },
    {
      "cell_type": "markdown",
      "metadata": {
        "id": "p9agCek5BGLL"
      },
      "source": [
        "Here, `proximity[i,j]` is the proximity in between the example `i` and `j`.\n",
        "\n",
        "The proximity matrix:"
      ]
    },
    {
      "cell_type": "code",
      "execution_count": null,
      "metadata": {
        "id": "p04SweioBFnH"
      },
      "outputs": [],
      "source": [
        "proximity"
      ]
    },
    {
      "cell_type": "markdown",
      "metadata": {
        "id": "syenPRRSBQFs"
      },
      "source": [
        "The proximity matrix has several interesting properties, notably, it is symmetrical, positive, and the diagonal elements are all 1."
      ]
    },
    {
      "cell_type": "markdown",
      "metadata": {
        "id": "5lncF0ja1iBQ"
      },
      "source": [
        "## Projection\n",
        "\n",
        "Our first use of the proximity is to project the examples on the two dimensional plane.\n",
        "\n",
        "If $\\mathrm{prox} \\in [0,1]$ is a proximity, $1 - \\mathrm{prox}$ is a distance\n",
        "between examples. Breiman proposes to compute the inner products of those distances, and to plot\n",
        "the [eigenvalues](https://en.wikipedia.org/wiki/Eigenvalues_and_eigenvectors). See details\n",
        "[here](https://www.stat.berkeley.edu/~breiman/RandomForests/cc_home.htm#scaling).\n",
        "\n",
        "Instead, we will use the\n",
        "[t-SNE](https://en.wikipedia.org/wiki/T-distributed_stochastic_neighbor_embedding)\n",
        "which is a more modern way to visualize high-dimensional data.\n",
        "\n",
        "**Note:** We use the [t-SNE's Scikit-learn implementation](https://scikit-learn.org/stable/modules/generated/sklearn.manifold.TSNE.html)."
      ]
    },
    {
      "cell_type": "code",
      "execution_count": null,
      "metadata": {
        "id": "Hy_krzz9IRhL"
      },
      "outputs": [],
      "source": [
        "distance = 1 - proximity\n",
        "\n",
        "t_sne = TSNE(\n",
        "    # Number of dimensions to display. 3d is also possible.\n",
        "    n_components=2,\n",
        "    # Control the shape of the projection. Higher values create more\n",
        "    # distinct but also more collapsed clusters. Can be in 5-50.\n",
        "    perplexity=20,\n",
        "    metric=\"precomputed\",\n",
        "    init=\"random\",\n",
        "    verbose=1,\n",
        "    learning_rate=\"auto\").fit_transform(distance)"
      ]
    },
    {
      "cell_type": "code",
      "source": [
        "distance"
      ],
      "metadata": {
        "id": "vuR77QFvzHpF"
      },
      "execution_count": null,
      "outputs": []
    },
    {
      "cell_type": "code",
      "source": [
        "from scipy.cluster.hierarchy import linkage,dendrogram,fcluster\n",
        "dict_linkage = {}\n",
        "list_method= ['centroid','ward','median']\n",
        "\n",
        "for k in list_method:\n",
        "    dict_linkage[k] = linkage(\n",
        "      y = distance,\n",
        "      method = k,\n",
        "      optimal_ordering = True)"
      ],
      "metadata": {
        "id": "f4Ti97q64W9w"
      },
      "execution_count": null,
      "outputs": []
    },
    {
      "cell_type": "code",
      "source": [],
      "metadata": {
        "id": "PSLmjzZidBVK"
      },
      "execution_count": null,
      "outputs": []
    },
    {
      "cell_type": "code",
      "source": [
        "dict_linkage['ward']"
      ],
      "metadata": {
        "id": "K_NjKimp6hIG"
      },
      "execution_count": null,
      "outputs": []
    },
    {
      "cell_type": "code",
      "source": [
        "dict_linkage['median']"
      ],
      "metadata": {
        "id": "46DBnmzq8Bmc"
      },
      "execution_count": null,
      "outputs": []
    },
    {
      "cell_type": "code",
      "source": [
        "dict_linkage['centroid']"
      ],
      "metadata": {
        "id": "9Xy6E-aI6yUG"
      },
      "execution_count": null,
      "outputs": []
    },
    {
      "cell_type": "code",
      "source": [
        "from matplotlib import pyplot as plt\n",
        "fig = plt.figure(figsize=(25, 15))\n",
        "dendrogram(\n",
        "  Z = dict_linkage['centroid'],\n",
        "  truncate_mode='level', p=2,\n",
        "  count_sort = True,\n",
        "  distance_sort = True,\n",
        "  orientation = 'top',\n",
        "  leaf_font_size = 15)\n",
        "plt.show()"
      ],
      "metadata": {
        "id": "Opdp8DNt68K3"
      },
      "execution_count": null,
      "outputs": []
    },
    {
      "cell_type": "code",
      "source": [
        "cl = dict_linkage['centroid']\n",
        "cl1 = dict_linkage['ward']\n",
        "cl2 = dict_linkage['median']"
      ],
      "metadata": {
        "id": "ISwDzKPReKAy"
      },
      "execution_count": null,
      "outputs": []
    },
    {
      "cell_type": "code",
      "source": [
        "numclust =4"
      ],
      "metadata": {
        "id": "T_63zIfkeOl7"
      },
      "execution_count": null,
      "outputs": []
    },
    {
      "cell_type": "code",
      "source": [
        "fl_centroid = fcluster(cl,numclust,criterion='maxclust')\n",
        "fl_centroid\n",
        "\n",
        "\n",
        "\n"
      ],
      "metadata": {
        "id": "-BEgJeI6eHmn"
      },
      "execution_count": null,
      "outputs": []
    },
    {
      "cell_type": "code",
      "source": [
        "fl_median = fcluster(cl2,numclust,criterion='maxclust')\n",
        "fl_median"
      ],
      "metadata": {
        "id": "NLs623STggRk"
      },
      "execution_count": null,
      "outputs": []
    },
    {
      "cell_type": "code",
      "source": [
        "fl_ward = fcluster(cl1,numclust,criterion='maxclust')\n",
        "fl_ward"
      ],
      "metadata": {
        "id": "RgxYorpAelR-"
      },
      "execution_count": null,
      "outputs": []
    },
    {
      "cell_type": "code",
      "source": [
        "def mean(deneme, clusters_list):\n",
        "    cluster_means = []\n",
        "    for cluster_index in clusters_list:\n",
        "        cluster_data = deneme.iloc[cluster_index]\n",
        "        mean = np.mean(cluster_data, axis=0)\n",
        "        cluster_means.append(mean)\n",
        "    return cluster_means"
      ],
      "metadata": {
        "id": "SjEmIDh_elpK"
      },
      "execution_count": null,
      "outputs": []
    },
    {
      "cell_type": "code",
      "source": [
        "means_fl_centroid = mean(df_combined, fl_centroid)\n",
        "means_fl_median = mean(df_combined, fl_median)\n",
        "means_fl_ward = mean(df_combined, fl_ward)"
      ],
      "metadata": {
        "id": "6rXhH2PaelpL"
      },
      "execution_count": null,
      "outputs": []
    },
    {
      "cell_type": "code",
      "source": [
        "means_fl_ward"
      ],
      "metadata": {
        "id": "5wpp9okog53Z"
      },
      "execution_count": null,
      "outputs": []
    },
    {
      "cell_type": "code",
      "source": [
        "means_fl_median\n"
      ],
      "metadata": {
        "id": "ztNR_kOIg3OH"
      },
      "execution_count": null,
      "outputs": []
    },
    {
      "cell_type": "code",
      "source": [
        "means_fl_centroid"
      ],
      "metadata": {
        "id": "qwOlWG1LelpM"
      },
      "execution_count": null,
      "outputs": []
    },
    {
      "cell_type": "code",
      "source": [
        "def covariance(deneme, clusters):\n",
        "    covariances = []\n",
        "    for cluster_index in clusters:\n",
        "        cluster_data = deneme.iloc[cluster_index]\n",
        "        covariance = np.cov(cluster_data, rowvar=False)\n",
        "        covariances.append(covariance)\n",
        "    return covariances"
      ],
      "metadata": {
        "id": "EBIzOwAreUHy"
      },
      "execution_count": null,
      "outputs": []
    },
    {
      "cell_type": "code",
      "source": [
        "covariance_centroid = covariance(df_combined, fl_centroid)\n",
        "covariance_centroid"
      ],
      "metadata": {
        "id": "01K1W7vch8Te"
      },
      "execution_count": null,
      "outputs": []
    },
    {
      "cell_type": "code",
      "source": [
        "covariance_median = covariance(df_combined, fl_median)\n",
        "covariance_median"
      ],
      "metadata": {
        "id": "gkUqZHGZic9R"
      },
      "execution_count": null,
      "outputs": []
    },
    {
      "cell_type": "code",
      "source": [
        "covariance_ward = covariance(df_combined, fl_ward)\n",
        "covariance_ward"
      ],
      "metadata": {
        "id": "-5PV2UCtidWi"
      },
      "execution_count": null,
      "outputs": []
    },
    {
      "cell_type": "code",
      "source": [
        "from matplotlib import pyplot as plt\n",
        "fig = plt.figure(figsize=(25, 15))\n",
        "dendrogram(\n",
        "  Z = dict_linkage['ward'],\n",
        "  count_sort = True,\n",
        "  truncate_mode='level', p=2,\n",
        "  distance_sort = True,\n",
        "  orientation = 'top',\n",
        "  leaf_font_size = 15)\n",
        "plt.show()"
      ],
      "metadata": {
        "id": "AEG8gYYY8D2h"
      },
      "execution_count": null,
      "outputs": []
    },
    {
      "cell_type": "code",
      "source": [
        "from matplotlib import pyplot as plt\n",
        "fig = plt.figure(figsize=(25, 15))\n",
        "dendrogram(\n",
        "  Z = dict_linkage['median'],\n",
        "  truncate_mode='level', p=2,\n",
        "  count_sort = True,\n",
        "  distance_sort = True,\n",
        "  orientation = 'top',\n",
        "  leaf_font_size = 25)\n",
        "plt.show()"
      ],
      "metadata": {
        "id": "lLfexXzS7feo"
      },
      "execution_count": null,
      "outputs": []
    },
    {
      "cell_type": "code",
      "source": [
        "import pandas as pd\n",
        "import numpy as np\n",
        "\n",
        "# Number of data points\n",
        "num_data_points = 2000\n",
        "\n",
        "# Number of variables\n",
        "num_variables = 8\n",
        "\n",
        "# Probability of success for each variable (adjust as needed)\n",
        "prob_success = 0.5\n",
        "\n",
        "# Generate a DataFrame with random Bernoulli variables\n",
        "data = np.random.choice([0, 1], size=(num_data_points, num_variables), p=[1 - prob_success, prob_success])\n",
        "columns = [f'NewFeature{i+8}' for i in range(1, num_variables + 1)]\n",
        "df_bernoulli = pd.DataFrame(data, columns=columns)\n",
        "\n",
        "# Display the DataFrame\n",
        "print(df_bernoulli.head())"
      ],
      "metadata": {
        "id": "KgyOnLtAj1iX"
      },
      "execution_count": null,
      "outputs": []
    },
    {
      "cell_type": "code",
      "source": [
        "df_comb = pd.concat([df_ca, df_bernoulli], axis=1)\n",
        "df_comb\n"
      ],
      "metadata": {
        "id": "rLkqjBEIk013"
      },
      "execution_count": null,
      "outputs": []
    },
    {
      "cell_type": "code",
      "source": [
        "df_comb"
      ],
      "metadata": {
        "id": "TrkhP_tVn9y3"
      },
      "execution_count": null,
      "outputs": []
    },
    {
      "cell_type": "markdown",
      "metadata": {
        "id": "qftL4Av1JPzM"
      },
      "source": [
        "The next plot shows a two-dimensional projection of the test example features. The color of the points\n",
        "represent the label values. Note that the label values were not available to the model."
      ]
    },
    {
      "cell_type": "code",
      "execution_count": null,
      "metadata": {
        "id": "Fj9Sa0h5KEh9"
      },
      "outputs": [],
      "source": [
        "fig, ax = plt.subplots(1, 1, figsize=(8, 8))\n",
        "ax.grid(False)\n",
        "\n",
        "# Color the points according to the label value.\n",
        "colors = (test[\"class\"] == \"\").map(lambda x: [\"orange\",'green'][x])\n",
        "ax.scatter(\n",
        "    t_sne[:, 0], t_sne[:, 1], c=colors, linewidths=0.5, marker=\"x\", s=20)"
      ]
    },
    {
      "cell_type": "code",
      "source": [],
      "metadata": {
        "id": "OupNSLY6E9vx"
      },
      "execution_count": null,
      "outputs": []
    },
    {
      "cell_type": "markdown",
      "source": [
        "With bernouli"
      ],
      "metadata": {
        "id": "uNxKnK2EwIbr"
      }
    },
    {
      "cell_type": "code",
      "source": [
        "df_comb"
      ],
      "metadata": {
        "id": "_LP3JTLdxBmF"
      },
      "execution_count": null,
      "outputs": []
    },
    {
      "cell_type": "code",
      "source": [
        "df_co"
      ],
      "metadata": {
        "id": "WfIJxqBQ4_Tv"
      },
      "execution_count": null,
      "outputs": []
    },
    {
      "cell_type": "code",
      "source": [
        "from sklearn.cluster import KMeans, AgglomerativeClustering\n",
        "\n",
        "kmeans = KMeans(n_clusters=4, random_state=0)\n",
        "clusters_kmeans = kmeans.fit_predict(df_comb)\n",
        "clusters_kmeans"
      ],
      "metadata": {
        "id": "5JFF-AEKxBmG"
      },
      "execution_count": null,
      "outputs": []
    },
    {
      "cell_type": "code",
      "source": [
        "plt.subplot(132)\n",
        "plt.scatter(df_comb['NewFeature4'], df_comb['NewFeature8'], c=clusters_kmeans, cmap='viridis')\n",
        "plt.title(\"K-Means Clustering\")"
      ],
      "metadata": {
        "id": "lU-BWdEExBmG"
      },
      "execution_count": null,
      "outputs": []
    },
    {
      "cell_type": "code",
      "source": [
        "def mean(deneme, clusters_list):\n",
        "    cluster_means = []\n",
        "    for cluster_index in clusters_list:\n",
        "        cluster_data = deneme.iloc[cluster_index]\n",
        "        mean = np.mean(cluster_data, axis=0)\n",
        "        cluster_means.append(mean)\n",
        "    return cluster_means"
      ],
      "metadata": {
        "id": "kpSynsT9xBmG"
      },
      "execution_count": null,
      "outputs": []
    },
    {
      "cell_type": "code",
      "source": [
        "kmeans_means = mean(df_comb, clusters_kmeans)"
      ],
      "metadata": {
        "id": "L9D9-SUtxBmG"
      },
      "execution_count": null,
      "outputs": []
    },
    {
      "cell_type": "code",
      "source": [
        "kmeans_means"
      ],
      "metadata": {
        "id": "O-Oh8cvUxBmH"
      },
      "execution_count": null,
      "outputs": []
    },
    {
      "cell_type": "code",
      "source": [
        "kmeans_means[-1]"
      ],
      "metadata": {
        "id": "KvWxdvHlxBmH"
      },
      "execution_count": null,
      "outputs": []
    },
    {
      "cell_type": "code",
      "source": [
        "kmeans_means[-501]"
      ],
      "metadata": {
        "id": "z8NdQItrxBmH"
      },
      "execution_count": null,
      "outputs": []
    },
    {
      "cell_type": "code",
      "source": [
        "kmeans_means[-1001]"
      ],
      "metadata": {
        "id": "YGD2CHMsxBmI"
      },
      "execution_count": null,
      "outputs": []
    },
    {
      "cell_type": "code",
      "source": [
        "kmeans_means[-1501]"
      ],
      "metadata": {
        "id": "hFCtTRkoxBmI"
      },
      "execution_count": null,
      "outputs": []
    },
    {
      "cell_type": "code",
      "source": [
        "kmeans_covariances"
      ],
      "metadata": {
        "id": "7I8hjALnxBmI"
      },
      "execution_count": null,
      "outputs": []
    },
    {
      "cell_type": "code",
      "source": [
        "import pandas as pd\n",
        "import numpy as np\n",
        "\n",
        "# Number of data points\n",
        "num_data_points = 4000\n",
        "\n",
        "# Number of variables\n",
        "num_variables = 8\n",
        "\n",
        "# Probability of success for each variable (adjust as needed)\n",
        "prob_success = 0.5\n",
        "\n",
        "# Generate a DataFrame with random Bernoulli variables\n",
        "data = np.random.choice([0, 1], size=(num_data_points, num_variables), p=[1 - prob_success, prob_success])\n",
        "columns = [f'NewFeature{i+8}' for i in range(1, num_variables + 1)]\n",
        "df_bernoulli = pd.DataFrame(data, columns=columns)\n",
        "\n",
        "# Display the DataFrame\n",
        "print(df_bernoulli.head())"
      ],
      "metadata": {
        "id": "dMkFfO1vxBmJ"
      },
      "execution_count": null,
      "outputs": []
    },
    {
      "cell_type": "code",
      "source": [
        "df_co = pd.concat([df_co, df_bernoulli], axis=1)"
      ],
      "metadata": {
        "id": "0xnnvSZ-5zVR"
      },
      "execution_count": null,
      "outputs": []
    },
    {
      "cell_type": "code",
      "source": [
        "df_co"
      ],
      "metadata": {
        "id": "dUyMFb92xBmM"
      },
      "execution_count": null,
      "outputs": []
    },
    {
      "cell_type": "code",
      "source": [
        "df_combined = df_co"
      ],
      "metadata": {
        "id": "a6RjqM4n5m1h"
      },
      "execution_count": null,
      "outputs": []
    },
    {
      "cell_type": "code",
      "source": [
        "from sklearn.model_selection import train_test_split\n"
      ],
      "metadata": {
        "id": "huwDFlnmxBmM"
      },
      "execution_count": null,
      "outputs": []
    },
    {
      "cell_type": "code",
      "source": [
        "train, test = train_test_split(df_combined, test_size=0.2, random_state=0)"
      ],
      "metadata": {
        "id": "Y5DvPS8XxBmN"
      },
      "execution_count": null,
      "outputs": []
    },
    {
      "cell_type": "code",
      "source": [
        "test"
      ],
      "metadata": {
        "id": "l28K4d_wxBmN"
      },
      "execution_count": null,
      "outputs": []
    },
    {
      "cell_type": "code",
      "source": [
        "train"
      ],
      "metadata": {
        "id": "szFVb6-WxBmN"
      },
      "execution_count": null,
      "outputs": []
    },
    {
      "cell_type": "code",
      "source": [
        "# , and convert it into a TensorFlow dataset.\n",
        "train_ds = tfdf.keras.pd_dataframe_to_tf_dataset(train, label=\"class\")\n",
        "test_ds = tfdf.keras.pd_dataframe_to_tf_dataset(test, label=\"class\")"
      ],
      "metadata": {
        "id": "kjRXlBFMxBmO"
      },
      "execution_count": null,
      "outputs": []
    },
    {
      "cell_type": "code",
      "execution_count": null,
      "metadata": {
        "id": "50s7DLc1xBmO"
      },
      "outputs": [],
      "source": [
        "train"
      ]
    },
    {
      "cell_type": "markdown",
      "metadata": {
        "id": "TtgF_y5oxBmQ"
      },
      "source": [
        "Following are the first five examples of the training dataset. Notice that\n",
        "different columns represent different quantities. For example, how would you compare\n",
        "the distance between *relationship* and *age*?"
      ]
    },
    {
      "cell_type": "code",
      "execution_count": null,
      "metadata": {
        "id": "j-l9KYKcxBmR"
      },
      "outputs": [],
      "source": [
        "# Print the first 5 examples.\n",
        "train.head()"
      ]
    },
    {
      "cell_type": "markdown",
      "metadata": {
        "id": "4FOQCEKBxBmT"
      },
      "source": [
        "A Random Forest is trained as follows:"
      ]
    },
    {
      "cell_type": "code",
      "execution_count": null,
      "metadata": {
        "id": "8uJqRoSWxBmV"
      },
      "outputs": [],
      "source": [
        "# Train a Random Forest\n",
        "model = tfdf.keras.RandomForestModel(num_trees=1000)\n",
        "model.fit(train_ds)"
      ]
    },
    {
      "cell_type": "markdown",
      "metadata": {
        "id": "ZqtMaC_nxBmV"
      },
      "source": [
        "The performance of the Random Forest model is:"
      ]
    },
    {
      "cell_type": "code",
      "execution_count": null,
      "metadata": {
        "id": "y0qSSuI4xBmV"
      },
      "outputs": [],
      "source": [
        "model_inspector = model.make_inspector()\n",
        "out_of_bag_accuracy = model_inspector.evaluation().accuracy\n",
        "print(f\"Out-of-bag accuracy: {out_of_bag_accuracy:.4f}\")"
      ]
    },
    {
      "cell_type": "markdown",
      "metadata": {
        "id": "sROIlqPbxBmW"
      },
      "source": [
        "This is an expected accuracy value for Random Forest models on this dataset. It indicates that the model is correctly trained.\n",
        "\n",
        "We can also measure the accuracy of the model on the test datasets:"
      ]
    },
    {
      "cell_type": "code",
      "execution_count": null,
      "metadata": {
        "id": "65HoVI-ZxBmW"
      },
      "outputs": [],
      "source": [
        "# The test accuracy is measured on the test datasets.\n",
        "model.compile([\"accuracy\"])\n",
        "test_accuracy = model.evaluate(test_ds, return_dict=True, verbose=0)[\"accuracy\"]\n",
        "print(f\"Test accuracy: {test_accuracy:.4f}\")"
      ]
    },
    {
      "cell_type": "markdown",
      "metadata": {
        "id": "zD9KLtrOxBmW"
      },
      "source": [
        "## Proximities"
      ]
    },
    {
      "cell_type": "markdown",
      "metadata": {
        "id": "tHeJTkryxBmW"
      },
      "source": [
        "First, we inspect the number of trees in the model and the number of examples in the test datasets."
      ]
    },
    {
      "cell_type": "code",
      "execution_count": null,
      "metadata": {
        "id": "Tc-mdQMnxBmW"
      },
      "outputs": [],
      "source": [
        "print(\"The model contains\", model_inspector.num_trees(), \"trees.\")\n",
        "print(\"The test dataset contains\", test.shape[0], \"examples.\")"
      ]
    },
    {
      "cell_type": "code",
      "source": [
        "test"
      ],
      "metadata": {
        "id": "Ab1KoYHaxBmX"
      },
      "execution_count": null,
      "outputs": []
    },
    {
      "cell_type": "markdown",
      "metadata": {
        "id": "WSjA5Ga4xBmX"
      },
      "source": [
        "The method [predict_get_leaves()](https://www.tensorflow.org/decision_forests/api_docs/python/tfdf/keras/RandomForestModel) returns the index of the active leaf for each example and each tree."
      ]
    },
    {
      "cell_type": "code",
      "execution_count": null,
      "metadata": {
        "id": "rshCgIqixBmX"
      },
      "outputs": [],
      "source": [
        "leaves = model.predict_get_leaves(test_ds)\n",
        "print(\"The leaf indices:\\n\", leaves)"
      ]
    },
    {
      "cell_type": "code",
      "execution_count": null,
      "metadata": {
        "id": "nYBWxah2xBmX"
      },
      "outputs": [],
      "source": [
        "print(\"The predicted leaves have shape\", leaves.shape,\n",
        "      \"(we expect [num_examples, num_trees]\")"
      ]
    },
    {
      "cell_type": "markdown",
      "metadata": {
        "id": "xLmKXvM4xBmY"
      },
      "source": []
    },
    {
      "cell_type": "code",
      "execution_count": null,
      "metadata": {
        "id": "2RH_BDstxBmY"
      },
      "outputs": [],
      "source": [
        "def compute_proximity(leaves, step_size=100):\n",
        "  \"\"\"Computes the proximity between each pair of examples.\n",
        "\n",
        "\n",
        "\n",
        "  Returns:\n",
        "    The example pair-wise proximity matrix of shape [n,n] with \"n\" the number of\n",
        "    examples.\n",
        "  \"\"\"\n",
        "\n",
        "  example_idx = 0\n",
        "  num_examples = leaves.shape[0]\n",
        "  t_leaves = np.transpose(leaves)\n",
        "  proximities = []\n",
        "\n",
        "  # Instead of computing the proximity in between all the examples at the same\n",
        "  # time, we compute the similarity in blocks of \"step_size\" examples. This\n",
        "  # makes the code more efficient with the the numpy broadcast.\n",
        "  while example_idx < num_examples:\n",
        "    end_idx = min(example_idx + step_size, num_examples)\n",
        "    proximities.append(\n",
        "        np.mean(\n",
        "            leaves[..., np.newaxis] == t_leaves[:,\n",
        "                                                example_idx:end_idx][np.newaxis,\n",
        "                                                                     ...],\n",
        "            axis=1))\n",
        "    example_idx = end_idx\n",
        "  return np.concatenate(proximities, axis=1)\n",
        "\n",
        "\n",
        "proximity = compute_proximity(leaves)\n",
        "print(\"The shape of proximity is\", proximity.shape)"
      ]
    },
    {
      "cell_type": "markdown",
      "metadata": {
        "id": "jtbSyv_oxBmY"
      },
      "source": []
    },
    {
      "cell_type": "code",
      "execution_count": null,
      "metadata": {
        "id": "p2ih_GGJxBmY"
      },
      "outputs": [],
      "source": [
        "proximity"
      ]
    },
    {
      "cell_type": "markdown",
      "metadata": {
        "id": "YepUYghUxBmY"
      },
      "source": [
        "The proximity matrix has several interesting properties, notably, it is symmetrical, positive, and the diagonal elements are all 1."
      ]
    },
    {
      "cell_type": "code",
      "execution_count": null,
      "metadata": {
        "id": "19RFrFlAxBmZ"
      },
      "outputs": [],
      "source": [
        "distance = 1 - proximity\n",
        "\n",
        "t_sne = TSNE(\n",
        "    # Number of dimensions to display. 3d is also possible.\n",
        "    n_components=2,\n",
        "    # Control the shape of the projection. Higher values create more\n",
        "    # distinct but also more collapsed clusters. Can be in 5-50.\n",
        "    perplexity=20,\n",
        "    metric=\"precomputed\",\n",
        "    init=\"random\",\n",
        "    verbose=1,\n",
        "    learning_rate=\"auto\").fit_transform(distance)"
      ]
    },
    {
      "cell_type": "code",
      "source": [
        "distance"
      ],
      "metadata": {
        "id": "9t_9yo9wxBmZ"
      },
      "execution_count": null,
      "outputs": []
    },
    {
      "cell_type": "code",
      "source": [
        "from scipy.cluster.hierarchy import linkage,dendrogram,fcluster\n",
        "dict_linkage = {}\n",
        "list_method= ['centroid','ward','median']\n",
        "\n",
        "for k in list_method:\n",
        "    dict_linkage[k] = linkage(\n",
        "      y = distance,\n",
        "      method = k,\n",
        "      optimal_ordering = True)"
      ],
      "metadata": {
        "id": "PYn7nnrQxBmZ"
      },
      "execution_count": null,
      "outputs": []
    },
    {
      "cell_type": "code",
      "source": [],
      "metadata": {
        "id": "FZ1TSZUsxBmZ"
      },
      "execution_count": null,
      "outputs": []
    },
    {
      "cell_type": "code",
      "source": [
        "dict_linkage['ward']"
      ],
      "metadata": {
        "id": "v4t60Vw9xBma"
      },
      "execution_count": null,
      "outputs": []
    },
    {
      "cell_type": "code",
      "source": [
        "dict_linkage['median']"
      ],
      "metadata": {
        "id": "YsZmAvRBxBma"
      },
      "execution_count": null,
      "outputs": []
    },
    {
      "cell_type": "code",
      "source": [
        "dict_linkage['centroid']"
      ],
      "metadata": {
        "id": "QHfNOrr_xBma"
      },
      "execution_count": null,
      "outputs": []
    },
    {
      "cell_type": "code",
      "source": [
        "from matplotlib import pyplot as plt\n",
        "fig = plt.figure(figsize=(25, 15))\n",
        "dendrogram(\n",
        "  Z = dict_linkage['centroid'],\n",
        "  truncate_mode='level', p=2,\n",
        "  count_sort = True,\n",
        "  distance_sort = True,\n",
        "  orientation = 'top',\n",
        "  leaf_font_size = 15)\n",
        "plt.show()"
      ],
      "metadata": {
        "id": "0hxsUbp1xBma"
      },
      "execution_count": null,
      "outputs": []
    },
    {
      "cell_type": "code",
      "source": [
        "cl = dict_linkage['centroid']\n",
        "cl1 = dict_linkage['ward']\n",
        "cl2 = dict_linkage['median']"
      ],
      "metadata": {
        "id": "39IiyU0AxBmb"
      },
      "execution_count": null,
      "outputs": []
    },
    {
      "cell_type": "code",
      "source": [
        "numclust =4"
      ],
      "metadata": {
        "id": "pR4gJfglxBmb"
      },
      "execution_count": null,
      "outputs": []
    },
    {
      "cell_type": "code",
      "source": [
        "fl_centroid = fcluster(cl,numclust,criterion='maxclust')\n",
        "fl_centroid\n",
        "\n",
        "\n",
        "\n"
      ],
      "metadata": {
        "id": "-L5TmumQxBmb"
      },
      "execution_count": null,
      "outputs": []
    },
    {
      "cell_type": "code",
      "source": [
        "fl_median = fcluster(cl2,numclust,criterion='maxclust')\n",
        "fl_median"
      ],
      "metadata": {
        "id": "BpZZPt9AxBmb"
      },
      "execution_count": null,
      "outputs": []
    },
    {
      "cell_type": "code",
      "source": [
        "fl_ward = fcluster(cl1,numclust,criterion='maxclust')\n",
        "fl_ward"
      ],
      "metadata": {
        "id": "8OX5qzrXxBmc"
      },
      "execution_count": null,
      "outputs": []
    },
    {
      "cell_type": "code",
      "source": [
        "def mean(deneme, clusters_list):\n",
        "    cluster_means = []\n",
        "    for cluster_index in clusters_list:\n",
        "        cluster_data = deneme.iloc[cluster_index]\n",
        "        mean = np.mean(cluster_data, axis=0)\n",
        "        cluster_means.append(mean)\n",
        "    return cluster_means"
      ],
      "metadata": {
        "id": "gmsDi5TvxBmc"
      },
      "execution_count": null,
      "outputs": []
    },
    {
      "cell_type": "code",
      "source": [
        "means_fl_centroid = mean(df_combined, fl_centroid)\n",
        "means_fl_median = mean(df_combined, fl_median)\n",
        "means_fl_ward = mean(df_combined, fl_ward)"
      ],
      "metadata": {
        "id": "VvIAHQ8jxBmc"
      },
      "execution_count": null,
      "outputs": []
    },
    {
      "cell_type": "code",
      "source": [
        "means_fl_ward"
      ],
      "metadata": {
        "id": "V8xTnHm8xBmc"
      },
      "execution_count": null,
      "outputs": []
    },
    {
      "cell_type": "code",
      "source": [
        "means_fl_median\n"
      ],
      "metadata": {
        "id": "8SwTSE6mxBmd"
      },
      "execution_count": null,
      "outputs": []
    },
    {
      "cell_type": "code",
      "source": [
        "means_fl_centroid"
      ],
      "metadata": {
        "id": "dK68XfrRxBmd"
      },
      "execution_count": null,
      "outputs": []
    },
    {
      "cell_type": "code",
      "source": [
        "def covariance(deneme, clusters):\n",
        "    covariances = []\n",
        "    for cluster_index in clusters:\n",
        "        cluster_data = deneme.iloc[cluster_index]\n",
        "        covariance = np.cov(cluster_data, rowvar=False)\n",
        "        covariances.append(covariance)\n",
        "    return covariances"
      ],
      "metadata": {
        "id": "UPqnSZMpxBmd"
      },
      "execution_count": null,
      "outputs": []
    },
    {
      "cell_type": "code",
      "source": [
        "covariance_centroid = covariance(df_combined, fl_centroid)\n",
        "covariance_centroid"
      ],
      "metadata": {
        "id": "fdnMB3lgxBmd"
      },
      "execution_count": null,
      "outputs": []
    },
    {
      "cell_type": "code",
      "source": [
        "covariance_median = covariance(df_combined, fl_median)\n",
        "covariance_median"
      ],
      "metadata": {
        "id": "5YAc9BCjxBme"
      },
      "execution_count": null,
      "outputs": []
    },
    {
      "cell_type": "code",
      "source": [
        "covariance_ward = covariance(df_combined, fl_ward)\n",
        "covariance_ward"
      ],
      "metadata": {
        "id": "NxoTJtpzxBme"
      },
      "execution_count": null,
      "outputs": []
    },
    {
      "cell_type": "code",
      "source": [
        "from matplotlib import pyplot as plt\n",
        "fig = plt.figure(figsize=(25, 15))\n",
        "dendrogram(\n",
        "  Z = dict_linkage['ward'],\n",
        "  count_sort = True,\n",
        "  truncate_mode='level', p=2,\n",
        "  distance_sort = True,\n",
        "  orientation = 'top',\n",
        "  leaf_font_size = 15)\n",
        "plt.show()"
      ],
      "metadata": {
        "id": "IYQuKpcRxBme"
      },
      "execution_count": null,
      "outputs": []
    },
    {
      "cell_type": "code",
      "source": [
        "from matplotlib import pyplot as plt\n",
        "fig = plt.figure(figsize=(25, 15))\n",
        "dendrogram(\n",
        "  Z = dict_linkage['median'],\n",
        "  truncate_mode='level', p=2,\n",
        "  count_sort = True,\n",
        "  distance_sort = True,\n",
        "  orientation = 'top',\n",
        "  leaf_font_size = 25)\n",
        "plt.show()"
      ],
      "metadata": {
        "id": "mGyN0CtzxBmf"
      },
      "execution_count": null,
      "outputs": []
    },
    {
      "cell_type": "code",
      "source": [],
      "metadata": {
        "id": "hAxERsO76Ld6"
      },
      "execution_count": null,
      "outputs": []
    }
  ],
  "metadata": {
    "colab": {
      "private_outputs": true,
      "provenance": []
    },
    "kernelspec": {
      "display_name": "Python 3",
      "name": "python3"
    },
    "language_info": {
      "name": "python"
    }
  },
  "nbformat": 4,
  "nbformat_minor": 0
}